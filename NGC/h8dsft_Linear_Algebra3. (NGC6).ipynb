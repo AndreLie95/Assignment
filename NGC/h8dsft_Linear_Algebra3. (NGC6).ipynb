{
 "cells": [
  {
   "cell_type": "code",
   "execution_count": 2,
   "metadata": {},
   "outputs": [],
   "source": [
    "import numpy as np"
   ]
  },
  {
   "cell_type": "code",
   "execution_count": 3,
   "metadata": {},
   "outputs": [
    {
     "name": "stdout",
     "output_type": "stream",
     "text": [
      "eingen vectors = [[0.4472136  0.31622777]\n",
      " [0.89442719 0.9486833 ]]\n",
      "\n",
      " eigen value = [-1. -2.]\n"
     ]
    }
   ],
   "source": [
    "a = np.array([[1], \n",
    "             [3]])\n",
    "b = np.array([[1, -1],\n",
    "              [6 , -4]])\n",
    "values, vectors = np.linalg.eig(b)\n",
    "print(f'eingen vectors = {vectors}')\n",
    "print(\"\")\n",
    "print(f' eigen value = {values}')"
   ]
  }
 ],
 "metadata": {
  "kernelspec": {
   "display_name": "Python 3.11.0 64-bit",
   "language": "python",
   "name": "python3"
  },
  "language_info": {
   "codemirror_mode": {
    "name": "ipython",
    "version": 3
   },
   "file_extension": ".py",
   "mimetype": "text/x-python",
   "name": "python",
   "nbconvert_exporter": "python",
   "pygments_lexer": "ipython3",
   "version": "3.11.0"
  },
  "orig_nbformat": 4,
  "vscode": {
   "interpreter": {
    "hash": "5f80c455da1dc101d9f66a16923589bd6dbb3429340af280f1efed2f72025e97"
   }
  }
 },
 "nbformat": 4,
 "nbformat_minor": 2
}
