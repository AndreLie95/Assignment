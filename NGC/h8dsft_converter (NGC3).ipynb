{
 "cells": [
  {
   "cell_type": "code",
   "execution_count": 34,
   "metadata": {},
   "outputs": [],
   "source": [
    "def TC(value):\n",
    "    '''this function Converting value of Termal'''\n",
    "    ss1 = input('Convert FROM Celsius / Kelvin / Farenheit : ')\n",
    "    ss2 = input('Convert TO Celsius / Kelvin / Farenheit : ')\n",
    "    s1 = ss1.upper()\n",
    "    s2 = ss2.upper()\n",
    "    n = float(value)\n",
    "    fs = s1[0]\n",
    "    ts = s2[0]\n",
    "    \n",
    "    if s1[0] == s2[0]: #mengecheck apakah suhu 1 dan suhu 2 sama?\n",
    "        print(f'value conversion from {value} {fs} to {ts} = {round(n, 2)} {ts}')\n",
    "    elif s1[0] == 'C' and s2[0] == 'K': #mengecheck apakah benar conversi dari celius --> kelvin\n",
    "        print(f'value conversion from {value} {fs} to {ts} = {round(n + 273.15, 2)} {ts}')\n",
    "    elif s1[0] == 'C' and s2[0] == 'F': #mengecheck apakah benar conversi dari celius --> farenhiet\n",
    "        print(f'value conversion from {value} {fs} to {ts} = {round(n * 9 / 5, 2)} {ts}')\n",
    "    elif s1[0] == 'K' and s2[0] == 'C': #mengecheck apakah benar conversi dari kelvin --> celsius\n",
    "        print(f'value conversion from {value} {fs} to {ts} = {round(n - 273.15, 2)} {ts}')\n",
    "    elif s1[0] == 'K' and s2[0] == 'F': #mengecheck apakah benar conversi dari kelvin --> farenhiet\n",
    "        print(f'value conversion from {value} {fs} to {ts} = {(round(n - 273.15, 2)) * 9 / 5} {ts}')\n",
    "    elif s1[0] == 'F' and s2[0] == 'C': #mengecheck apakah benar conversi dari farenheit --> celsius\n",
    "        print(f'value conversion from {value} {fs} to {ts} = {round(n * 5 / 9, 2)} {ts}')\n",
    "    elif s1[0] == 'F' and s2[0] == 'K': #mengecheck apakah benar conversi dari farenheit --> kelvin\n",
    "        print(f'value conversion from {value} {fs} to {ts} = {round(n * 5 / 9 + 273.15, 2)} {ts}')"
   ]
  },
  {
   "cell_type": "code",
   "execution_count": 36,
   "metadata": {},
   "outputs": [
    {
     "name": "stdout",
     "output_type": "stream",
     "text": [
      "value conversion from 25.9 K to F = -445.05 F\n"
     ]
    }
   ],
   "source": [
    "TC(25.9)"
   ]
  }
 ],
 "metadata": {
  "kernelspec": {
   "display_name": "Python 3.11.0 64-bit",
   "language": "python",
   "name": "python3"
  },
  "language_info": {
   "codemirror_mode": {
    "name": "ipython",
    "version": 3
   },
   "file_extension": ".py",
   "mimetype": "text/x-python",
   "name": "python",
   "nbconvert_exporter": "python",
   "pygments_lexer": "ipython3",
   "version": "3.11.0"
  },
  "orig_nbformat": 4,
  "vscode": {
   "interpreter": {
    "hash": "5f80c455da1dc101d9f66a16923589bd6dbb3429340af280f1efed2f72025e97"
   }
  }
 },
 "nbformat": 4,
 "nbformat_minor": 2
}
