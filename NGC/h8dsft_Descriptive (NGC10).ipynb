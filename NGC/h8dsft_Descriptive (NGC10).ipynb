{
 "cells": [
  {
   "cell_type": "code",
   "execution_count": 2,
   "metadata": {},
   "outputs": [],
   "source": [
    "import pandas as pd\n",
    "from scipy import stats"
   ]
  },
  {
   "cell_type": "code",
   "execution_count": 3,
   "metadata": {},
   "outputs": [],
   "source": [
    "df = pd.read_csv('covid_19_indonesia_time_series_all.csv')"
   ]
  },
  {
   "cell_type": "code",
   "execution_count": 4,
   "metadata": {},
   "outputs": [
    {
     "data": {
      "text/plain": [
       "0       4103\n",
       "1       1781\n",
       "2       1301\n",
       "3        977\n",
       "4        773\n",
       "        ... \n",
       "7465       1\n",
       "2455       1\n",
       "1305       1\n",
       "8083       1\n",
       "2358       1\n",
       "Name: New Cases, Length: 2591, dtype: int64"
      ]
     },
     "execution_count": 4,
     "metadata": {},
     "output_type": "execute_result"
    }
   ],
   "source": [
    "df['New Cases'].value_counts()"
   ]
  },
  {
   "cell_type": "code",
   "execution_count": 5,
   "metadata": {},
   "outputs": [
    {
     "name": "stdout",
     "output_type": "stream",
     "text": [
      "Nilai rata-rata kasus baru : 402.31\n",
      "Nilai tengah kasus baru : 27.0\n",
      "Nilai modus kasus baru : 0\n"
     ]
    }
   ],
   "source": [
    "a = df['New Cases'].mean()\n",
    "b = df['New Cases'].median()\n",
    "c = df['New Cases'].mode()[0]\n",
    "\n",
    "print(f'Nilai rata-rata kasus baru : {round(a,2)}')\n",
    "print(f'Nilai tengah kasus baru : {b}')\n",
    "print(f'Nilai modus kasus baru : {c}')"
   ]
  },
  {
   "cell_type": "code",
   "execution_count": 22,
   "metadata": {},
   "outputs": [
    {
     "name": "stdout",
     "output_type": "stream",
     "text": [
      "jarak antara data kasus baru max dengan min adalah 64718\n",
      "kasus baru dengan nilai 100 berada pada percentile ke 71.13003582427251\n",
      "kasus baru pada quantile ke 0.25 adalah 3.0\n",
      "kasus baru pada quantile ke 0.5 adalah 27.0\n",
      "kasus baru pada quantile ke 0.75 adalah 130.0\n"
     ]
    }
   ],
   "source": [
    "d = df['New Cases'].max() - df['New Cases'].min() #menghitung range\n",
    "e = stats.percentileofscore(df['New Cases'], 100)\n",
    "f = df['New Cases'].quantile([0.25, 0.5, 0.75])\n",
    "\n",
    "print(f'jarak antara data kasus baru max dengan min adalah {d}')\n",
    "print(f'kasus baru dengan nilai 100 berada pada percentile ke {e}')\n",
    "print(f'kasus baru pada quantile ke {0.25} adalah {f[0.25]}')\n",
    "print(f'kasus baru pada quantile ke {0.5} adalah {f[0.5]}')\n",
    "print(f'kasus baru pada quantile ke {0.75} adalah {f[0.75]}')"
   ]
  }
 ],
 "metadata": {
  "kernelspec": {
   "display_name": "Python 3.11.0 64-bit",
   "language": "python",
   "name": "python3"
  },
  "language_info": {
   "codemirror_mode": {
    "name": "ipython",
    "version": 3
   },
   "file_extension": ".py",
   "mimetype": "text/x-python",
   "name": "python",
   "nbconvert_exporter": "python",
   "pygments_lexer": "ipython3",
   "version": "3.11.0"
  },
  "orig_nbformat": 4,
  "vscode": {
   "interpreter": {
    "hash": "5f80c455da1dc101d9f66a16923589bd6dbb3429340af280f1efed2f72025e97"
   }
  }
 },
 "nbformat": 4,
 "nbformat_minor": 2
}
