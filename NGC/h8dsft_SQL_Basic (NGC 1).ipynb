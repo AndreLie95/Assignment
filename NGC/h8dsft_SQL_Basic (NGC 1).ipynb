{
 "cells": [
  {
   "cell_type": "code",
   "execution_count": null,
   "metadata": {},
   "outputs": [],
   "source": [
    "--QUARTER 1\n",
    "SELECT stations.station_id,\n",
    "       stations.name,\n",
    "       stations.landmark,\n",
    "       trips.trip_id,\n",
    "       trips.start_station_id,\n",
    "       trips.start_station_name,\n",
    "       trips.start_date,\n",
    "       trips.subscriber_type,\n",
    "FROM `bigquery-public-data.san_francisco.bikeshare_stations` AS stations\n",
    "JOIN `bigquery-public-data.san_francisco.bikeshare_trips` AS trips\n",
    "  ON stations.station_id = trips.start_station_id\n",
    "WHERE (stations.landmark = 'Redwood City'\n",
    "  AND trips.subscriber_type = 'Subscriber'\n",
    "  AND extract(year FROM trips.start_date) = 2016\n",
    "  AND extract(quarter FROM trips.start_date) = 1) order by trips.start_date"
   ]
  },
  {
   "cell_type": "code",
   "execution_count": null,
   "metadata": {},
   "outputs": [],
   "source": [
    "--QUARTER 2\n",
    "SELECT stations.station_id,\n",
    "       stations.name,\n",
    "       stations.landmark,\n",
    "       trips.trip_id,\n",
    "       trips.start_station_id,\n",
    "       trips.start_station_name,\n",
    "       trips.start_date,\n",
    "       trips.subscriber_type,\n",
    "FROM `bigquery-public-data.san_francisco.bikeshare_stations` AS stations\n",
    "JOIN `bigquery-public-data.san_francisco.bikeshare_trips` AS trips\n",
    "  ON stations.station_id = trips.start_station_id\n",
    "WHERE (stations.landmark = 'Redwood City'\n",
    "  AND trips.subscriber_type = 'Subscriber'\n",
    "  AND extract(year FROM trips.start_date) = 2016\n",
    "  AND extract(quarter FROM trips.start_date) = 2) order by trips.start_date"
   ]
  }
 ],
 "metadata": {
  "kernelspec": {
   "display_name": "Python 3.11.0 64-bit",
   "language": "python",
   "name": "python3"
  },
  "language_info": {
   "name": "python",
   "version": "3.11.0"
  },
  "orig_nbformat": 4,
  "vscode": {
   "interpreter": {
    "hash": "5f80c455da1dc101d9f66a16923589bd6dbb3429340af280f1efed2f72025e97"
   }
  }
 },
 "nbformat": 4,
 "nbformat_minor": 2
}
